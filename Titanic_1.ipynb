{
 "cells": [
  {
   "cell_type": "markdown",
   "id": "101e52d6",
   "metadata": {},
   "source": [
    "# Desafio Kaggle Titanic"
   ]
  },
  {
   "cell_type": "markdown",
   "id": "b161e9e3",
   "metadata": {},
   "source": [
    "1) Import Libraries"
   ]
  },
  {
   "cell_type": "code",
   "execution_count": 6,
   "id": "7359d428",
   "metadata": {},
   "outputs": [],
   "source": [
    "import pandas as pd\n",
    "import numpy as np\n",
    "from sklearn.ensemble import RandomForestClassifier\n",
    "from sklearn.model_selection import train_test_split"
   ]
  },
  {
   "cell_type": "markdown",
   "id": "d0aebfb2",
   "metadata": {},
   "source": [
    "2) Import Files"
   ]
  },
  {
   "cell_type": "code",
   "execution_count": 7,
   "id": "77a25607",
   "metadata": {},
   "outputs": [],
   "source": [
    "train = pd.read_csv(\"C:/Users/rened/Desktop/Titanic Kaggle/train.csv\")\n",
    "test = pd.read_csv(\"C:/Users/rened/Desktop/Titanic Kaggle/test.csv\")"
   ]
  },
  {
   "cell_type": "markdown",
   "id": "6feb3369",
   "metadata": {},
   "source": [
    "3) Data Exploration"
   ]
  },
  {
   "cell_type": "code",
   "execution_count": 3,
   "id": "b24ce0bb",
   "metadata": {},
   "outputs": [],
   "source": [
    "#train.head()\n",
    "#test.head()\n",
    "#test.info()\n",
    "#train.info()\n",
    "#train.describe()\n",
    "#test.describe()\n",
    "#train['Sex'].value_counts()"
   ]
  },
  {
   "cell_type": "markdown",
   "id": "4614be2a",
   "metadata": {},
   "source": [
    "4) Model"
   ]
  },
  {
   "cell_type": "code",
   "execution_count": 8,
   "id": "5532f3ac",
   "metadata": {},
   "outputs": [],
   "source": [
    "model = RandomForestClassifier(n_estimators = 100, n_jobs = -1, random_state = 0)"
   ]
  },
  {
   "cell_type": "markdown",
   "id": "591ff36c",
   "metadata": {},
   "source": [
    "5) Pre processamento"
   ]
  },
  {
   "cell_type": "code",
   "execution_count": 9,
   "id": "44a187c3",
   "metadata": {},
   "outputs": [],
   "source": [
    "#Modificar coluna Sex para binário:\n",
    "def change_sex(value):\n",
    "    if value == 'female':\n",
    "        return 1\n",
    "    else:\n",
    "        return 0\n",
    "    \n",
    "train['Sex_binary'] = train['Sex'].map(change_sex)\n",
    "test['Sex_binary'] = test['Sex'].map(change_sex)\n",
    "\n",
    "variaveis = ['Sex_binary', 'Age']\n",
    "\n",
    "#train.head()"
   ]
  },
  {
   "cell_type": "markdown",
   "id": "2783af3e",
   "metadata": {},
   "source": [
    "6) X e y"
   ]
  },
  {
   "cell_type": "code",
   "execution_count": 10,
   "id": "e4513be1",
   "metadata": {},
   "outputs": [
    {
     "data": {
      "text/html": [
       "<div>\n",
       "<style scoped>\n",
       "    .dataframe tbody tr th:only-of-type {\n",
       "        vertical-align: middle;\n",
       "    }\n",
       "\n",
       "    .dataframe tbody tr th {\n",
       "        vertical-align: top;\n",
       "    }\n",
       "\n",
       "    .dataframe thead th {\n",
       "        text-align: right;\n",
       "    }\n",
       "</style>\n",
       "<table border=\"1\" class=\"dataframe\">\n",
       "  <thead>\n",
       "    <tr style=\"text-align: right;\">\n",
       "      <th></th>\n",
       "      <th>Sex_binary</th>\n",
       "      <th>Age</th>\n",
       "    </tr>\n",
       "  </thead>\n",
       "  <tbody>\n",
       "    <tr>\n",
       "      <th>0</th>\n",
       "      <td>0</td>\n",
       "      <td>22.0</td>\n",
       "    </tr>\n",
       "    <tr>\n",
       "      <th>1</th>\n",
       "      <td>1</td>\n",
       "      <td>38.0</td>\n",
       "    </tr>\n",
       "    <tr>\n",
       "      <th>2</th>\n",
       "      <td>1</td>\n",
       "      <td>26.0</td>\n",
       "    </tr>\n",
       "    <tr>\n",
       "      <th>3</th>\n",
       "      <td>1</td>\n",
       "      <td>35.0</td>\n",
       "    </tr>\n",
       "    <tr>\n",
       "      <th>4</th>\n",
       "      <td>0</td>\n",
       "      <td>35.0</td>\n",
       "    </tr>\n",
       "  </tbody>\n",
       "</table>\n",
       "</div>"
      ],
      "text/plain": [
       "   Sex_binary   Age\n",
       "0           0  22.0\n",
       "1           1  38.0\n",
       "2           1  26.0\n",
       "3           1  35.0\n",
       "4           0  35.0"
      ]
     },
     "execution_count": 10,
     "metadata": {},
     "output_type": "execute_result"
    }
   ],
   "source": [
    "X = train[variaveis]\n",
    "y = train['Survived']\n",
    "\n",
    "X = X.fillna(-1)\n",
    "\n",
    "X.head()"
   ]
  },
  {
   "cell_type": "markdown",
   "id": "0595826d",
   "metadata": {},
   "source": [
    "7) Validação"
   ]
  },
  {
   "cell_type": "code",
   "execution_count": 11,
   "id": "0c13fbb5",
   "metadata": {},
   "outputs": [],
   "source": [
    "X_train, X_test, y_train, y_test = train_test_split(X, y, test_size = 0.5)"
   ]
  },
  {
   "cell_type": "markdown",
   "id": "b149364b",
   "metadata": {},
   "source": [
    "8) Fit Model"
   ]
  },
  {
   "cell_type": "code",
   "execution_count": 12,
   "id": "0745297b",
   "metadata": {},
   "outputs": [
    {
     "data": {
      "text/plain": [
       "RandomForestClassifier(n_jobs=-1, random_state=0)"
      ]
     },
     "execution_count": 12,
     "metadata": {},
     "output_type": "execute_result"
    }
   ],
   "source": [
    "model.fit(X_train, y_train)"
   ]
  },
  {
   "cell_type": "markdown",
   "id": "9019a1bf",
   "metadata": {},
   "source": [
    "9) Predict"
   ]
  },
  {
   "cell_type": "code",
   "execution_count": 14,
   "id": "a88d0920",
   "metadata": {},
   "outputs": [],
   "source": [
    "p = model.predict(X_test)"
   ]
  },
  {
   "cell_type": "markdown",
   "id": "9a6cc915",
   "metadata": {},
   "source": [
    "10) Ver Resultado"
   ]
  },
  {
   "cell_type": "code",
   "execution_count": 15,
   "id": "9c3a17b0",
   "metadata": {},
   "outputs": [
    {
     "data": {
      "text/plain": [
       "0.7600896860986547"
      ]
     },
     "execution_count": 15,
     "metadata": {},
     "output_type": "execute_result"
    }
   ],
   "source": [
    "np.mean(y_test == p)"
   ]
  },
  {
   "cell_type": "code",
   "execution_count": null,
   "id": "25a1fb5d",
   "metadata": {},
   "outputs": [],
   "source": []
  }
 ],
 "metadata": {
  "kernelspec": {
   "display_name": "Python 3 (ipykernel)",
   "language": "python",
   "name": "python3"
  },
  "language_info": {
   "codemirror_mode": {
    "name": "ipython",
    "version": 3
   },
   "file_extension": ".py",
   "mimetype": "text/x-python",
   "name": "python",
   "nbconvert_exporter": "python",
   "pygments_lexer": "ipython3",
   "version": "3.9.12"
  }
 },
 "nbformat": 4,
 "nbformat_minor": 5
}
